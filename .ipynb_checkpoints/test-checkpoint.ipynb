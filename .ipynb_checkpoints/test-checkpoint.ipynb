{
 "cells": [
  {
   "cell_type": "code",
   "execution_count": 1,
   "metadata": {},
   "outputs": [],
   "source": [
    "from io import BytesIO\n",
    "import base64\n",
    "import banana_dev as banana\n",
    "\n",
    "api_key = \"b8a9adf0-ec17-4013-a53e-76e4ea7d848c\"\n",
    "model_key = \"d4fd738f-166d-4876-84eb-b0a4b730a88c\"\n",
    "\n",
    "# Expects an mp3 file named test.mp3 in directory\n",
    "with open(f'whisper.mp3', 'rb') as file:\n",
    "    mp3bytes = BytesIO(file.read())\n",
    "mp3 = base64.b64encode(mp3bytes.getvalue()).decode(\"ISO-8859-1\")\n"
   ]
  },
  {
   "cell_type": "code",
   "execution_count": null,
   "metadata": {},
   "outputs": [],
   "source": [
    "\n",
    "model_payload = {\"mp3BytesString\": mp3}\n",
    "\n",
    "%time out = banana.run(api_key, model_key, model_payload)\n",
    "\n"
   ]
  },
  {
   "cell_type": "code",
   "execution_count": null,
   "metadata": {},
   "outputs": [],
   "source": [
    "print(out)"
   ]
  },
  {
   "cell_type": "code",
   "execution_count": null,
   "metadata": {},
   "outputs": [],
   "source": [
    "out"
   ]
  }
 ],
 "metadata": {
  "kernelspec": {
   "display_name": "Python 3 (ipykernel)",
   "language": "python",
   "name": "python3"
  },
  "language_info": {
   "codemirror_mode": {
    "name": "ipython",
    "version": 3
   },
   "file_extension": ".py",
   "mimetype": "text/x-python",
   "name": "python",
   "nbconvert_exporter": "python",
   "pygments_lexer": "ipython3",
   "version": "3.10.6"
  }
 },
 "nbformat": 4,
 "nbformat_minor": 2
}
